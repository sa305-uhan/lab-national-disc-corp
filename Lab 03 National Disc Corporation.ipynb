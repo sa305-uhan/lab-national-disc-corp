{
 "cells": [
  {
   "cell_type": "markdown",
   "metadata": {},
   "source": [
    "**SA305 &#x25aa; Linear Programming &#x25aa; Spring 2021 &#x25aa; Uhan**"
   ]
  },
  {
   "cell_type": "markdown",
   "metadata": {},
   "source": [
    "# Lab 3. National Disc Corporation"
   ]
  },
  {
   "cell_type": "markdown",
   "metadata": {},
   "source": [
    "⚠️ In order to complete this lab, you need to have Pyomo and GLPK installed on your computer."
   ]
  },
  {
   "cell_type": "markdown",
   "metadata": {},
   "source": [
    "## Your assignment"
   ]
  },
  {
   "cell_type": "markdown",
   "metadata": {},
   "source": [
    "Recall Exercise 2.6 from Rader (National Disc Corporation), assigned for homework. We can formulate this problem as a linear program as follows.\n",
    "\n",
    "__Sets.__\n",
    "\n",
    "\\begin{alignat*}{2}\n",
    "  P & = \\text{set of four-hour periods}\\\\\n",
    "  S & = \\text{set of shifts}\\\\\n",
    "  R_j & = \\text{set of four-hour periods covered by shift $j$} &\\quad& \\text{for } j \\in S\n",
    " \\end{alignat*}\n",
    "\n",
    " __Parameters.__\n",
    "\n",
    "\\begin{alignat*}{2}\n",
    "  d_i & = \\text{employees needed in period $i$} &\\quad& \\text{for } i \\in P\\\\\n",
    "  c_j & = \\text{total cost of benefits for employee working in shift $j$} &\\quad& \\text{for } j \\in S\\\\\n",
    "\\end{alignat*}\n",
    "\n",
    "__Decision variables.__\n",
    "\n",
    "\\begin{equation*}\n",
    "  x_{j} = \\text{number of employees assigned to shift $j$} \\quad \\text{for } j \\in S\n",
    "\\end{equation*}\n",
    "\n",
    "\n",
    "__Objective function and constraints.__\n",
    "\n",
    "\\begin{alignat*}{3}\n",
    "  \\min \\quad & \\sum_{j \\in S} c_j x_j &\\quad& &\\quad& \\text{(total cost)}\\\\\n",
    "  \\text{s.t.} \\quad & \\sum_{j \\in S : i \\in R_j} x_j \\ge d_i &\\quad& \\text{for } i \\in P &\\quad& \\text{(required employees)}\\\\\n",
    "  & x_j \\geq 0 &\\quad& \\text{for } j \\in S &\\quad& \\text{(nonnegativity)} \\\\\n",
    "\\end{alignat*}"
   ]
  },
  {
   "cell_type": "markdown",
   "metadata": {},
   "source": [
    "The sets and parameters above have the following concrete values for this problem:\n",
    "\n",
    "\\begin{align*}\n",
    "    P & = \\{1, 2, 3, 4, 5, 6\\}\\\\\n",
    "    S & = \\{1, 2, 3, 4, 5, 6, 7, 8, 9, 10\\}\n",
    "\\end{align*}\n",
    "\n",
    "| Period <i>i</i> &isin; <i>P</i> | Hours | Employees Needed (<i>d</i><sub><i>i</i></sub>) |\n",
    "| :-: | :-: | :-: |\n",
    "| 1 | 0000-0400 | 8 |\n",
    "| 2 | 0400-0800 | 10 | \n",
    "| 3 | 0800-1200 | 16 | \n",
    "| 4 | 1200-1600 | 21 |\n",
    "| 5 | 1600-2000 | 18 |\n",
    "| 6 | 2000-0000 | 12 |\n",
    "\n",
    "| Shift <i>j</i> &isin; <i>S</i> | Hours | Total cost <i>c</i><sub><i>j</i></sub> |\n",
    "| :-: | :-: | :-: |\n",
    "| 1 | 0000-0800 | 320 |\n",
    "| 2 | 0400-1200 | 320 |\n",
    "| 3 | 0800-1600 | 320 |\n",
    "| 4 | 1200-2000 | 320 |\n",
    "| 5 | 1600-2400 | 320 |\n",
    "| 6 | 2000-0400 | 320 |\n",
    "| 7 | 0000-1200 | 720 |\n",
    "| 8 | 1200-0000 | 720 |\n",
    "| 9 | 0800-2000 | 720 |\n",
    "| 10 | 2000-0800 | 720 |\n",
    "\n",
    "\n",
    "\\begin{alignat*}{2}\n",
    "  R_1 & = \\{1,2\\} &\\qquad  R_6 & = \\{6,1\\}\\\\\n",
    "  R_2 & = \\{2,3\\} &\\qquad  R_7 & = \\{1,2,3\\}\\\\\n",
    "  R_3 & = \\{3,4\\} &\\qquad  R_8 & = \\{4,5,6\\}\\\\\n",
    "  R_4 & = \\{4,5\\} &\\qquad  R_9 & = \\{3,4,5\\}\\\\\n",
    "  R_5 & = \\{5,6\\} &\\qquad  R_{10} & = \\{6,1,2\\}\n",
    "\\end{alignat*}"
   ]
  },
  {
   "cell_type": "markdown",
   "metadata": {},
   "source": [
    "Construct and solve this model in Pyomo by completing the tasks given below."
   ]
  },
  {
   "cell_type": "markdown",
   "metadata": {},
   "source": [
    "__1.__  Import the Pyomo library."
   ]
  },
  {
   "cell_type": "code",
   "execution_count": null,
   "metadata": {},
   "outputs": [],
   "source": []
  },
  {
   "cell_type": "markdown",
   "metadata": {},
   "source": [
    "__2a.__ Define lists `P_list` and `S_list` that define concrete values for the sets $P$ and $S$, respectively."
   ]
  },
  {
   "cell_type": "code",
   "execution_count": null,
   "metadata": {},
   "outputs": [],
   "source": []
  },
  {
   "cell_type": "markdown",
   "metadata": {},
   "source": [
    "__2b.__ Define a dictionary `R_dict` that defines a list of concrete values for each set $R_j$ for $j \\in S$. \n",
    "\n",
    "_Hint._ You can map dictionary keys to lists, like this:\n",
    "\n",
    "```python\n",
    "R_dict = {\n",
    "    1: [1, 2],\n",
    "    2: [2, 3],\n",
    "    ...\n",
    "    10: [6, 1, 2]\n",
    "}\n",
    "```"
   ]
  },
  {
   "cell_type": "code",
   "execution_count": null,
   "metadata": {},
   "outputs": [],
   "source": []
  },
  {
   "cell_type": "markdown",
   "metadata": {},
   "source": [
    "__2c.__ Define a dictionary `d_dict` that defines concrete values for the parameter $d_i$ for $i \\in P$."
   ]
  },
  {
   "cell_type": "code",
   "execution_count": null,
   "metadata": {},
   "outputs": [],
   "source": []
  },
  {
   "cell_type": "markdown",
   "metadata": {},
   "source": [
    "__2d.__ Define a dictionary `c_dict` that defines concrete values for the parameters $c_j$ for $j \\in S$."
   ]
  },
  {
   "cell_type": "code",
   "execution_count": null,
   "metadata": {},
   "outputs": [],
   "source": []
  },
  {
   "cell_type": "markdown",
   "metadata": {},
   "source": [
    "__3.__ Initialize a concrete model named `model`."
   ]
  },
  {
   "cell_type": "code",
   "execution_count": null,
   "metadata": {},
   "outputs": [],
   "source": []
  },
  {
   "cell_type": "markdown",
   "metadata": {},
   "source": [
    "__4a.__ Define and initialize the sets $P$ and $S$ as `model.P` and `model.S`, respectively."
   ]
  },
  {
   "cell_type": "code",
   "execution_count": null,
   "metadata": {},
   "outputs": [],
   "source": []
  },
  {
   "cell_type": "markdown",
   "metadata": {},
   "source": [
    "__4b.__ Define and initialize the sets $R_j$ for $j \\in S$ as `model.R`.\n",
    "\n",
    "_Hint._ You can define sets with subscripts/indices the same way you would define parameters with subscripts/indices:\n",
    "\n",
    "```python\n",
    "model.R = pyo.Set(model.S, initialize=R_dict)\n",
    "```"
   ]
  },
  {
   "cell_type": "code",
   "execution_count": null,
   "metadata": {},
   "outputs": [],
   "source": []
  },
  {
   "cell_type": "markdown",
   "metadata": {},
   "source": [
    "__4c.__ Define and initialize the parameters $d_i$ for $i \\in P$ and $c_j$ for $j \\in S$ as `model.d` and `model.c`, respectively."
   ]
  },
  {
   "cell_type": "code",
   "execution_count": null,
   "metadata": {},
   "outputs": [],
   "source": []
  },
  {
   "cell_type": "markdown",
   "metadata": {},
   "source": [
    "__5.__ Define the decision variables $x_j$ for $j \\in S$ as `model.x`.  Make sure you specify their nonnegativity."
   ]
  },
  {
   "cell_type": "code",
   "execution_count": null,
   "metadata": {},
   "outputs": [],
   "source": []
  },
  {
   "cell_type": "markdown",
   "metadata": {},
   "source": [
    "__6.__ Define the objective function as `model.obj`.  Make sure you specify the correct `sense`."
   ]
  },
  {
   "cell_type": "code",
   "execution_count": null,
   "metadata": {},
   "outputs": [],
   "source": []
  },
  {
   "cell_type": "markdown",
   "metadata": {},
   "source": [
    "__7.__ Define the \"required employees\" constraint \n",
    "\n",
    "$$\n",
    "\\sum_{j \\in S : i \\in R_j} x_j \\ge d_i \\quad \\text{for } i \\in P \\quad \\text{(required employees)}\n",
    "$$\n",
    "\n",
    "as `model.required`.\n",
    "\n",
    "_Hint._ In Python, you can write $\\displaystyle\\sum_{j \\in S: i \\in R_j} x_j$ as\n",
    "\n",
    "```python\n",
    "sum(model.x[j] for j in model.S if i in model.R[j])\n",
    "```\n",
    "\n",
    "Note that $j \\in S: i \\in R_j$ corresponds to `for j in model.S if i in model.R[j]`."
   ]
  },
  {
   "cell_type": "code",
   "execution_count": null,
   "metadata": {},
   "outputs": [],
   "source": []
  },
  {
   "cell_type": "markdown",
   "metadata": {},
   "source": [
    "__8.__ Solve the model and save the result as `result`."
   ]
  },
  {
   "cell_type": "code",
   "execution_count": null,
   "metadata": {},
   "outputs": [],
   "source": []
  },
  {
   "cell_type": "markdown",
   "metadata": {},
   "source": [
    "__9.__ Print the status of the solving process of the model."
   ]
  },
  {
   "cell_type": "code",
   "execution_count": null,
   "metadata": {},
   "outputs": [],
   "source": []
  },
  {
   "cell_type": "markdown",
   "metadata": {},
   "source": [
    "__10.__ If the solver terminated with an optimal solution, print the optimal solution and its value."
   ]
  },
  {
   "cell_type": "code",
   "execution_count": null,
   "metadata": {},
   "outputs": [],
   "source": []
  },
  {
   "cell_type": "markdown",
   "metadata": {},
   "source": [
    "<hr style=\"border-top: 1px solid gray;\"/>"
   ]
  },
  {
   "cell_type": "markdown",
   "metadata": {},
   "source": [
    "## When you're finished"
   ]
  },
  {
   "cell_type": "markdown",
   "metadata": {},
   "source": [
    "- Make sure your notebook runs from top to bottom with no errors. One way to accomplish this is to click on __Kernel &#8594; Restart & Run All__. This will restart Python, and run your notebook from top to bottom."
   ]
  },
  {
   "cell_type": "markdown",
   "metadata": {},
   "source": [
    "<hr style=\"border-top: 1px solid gray;\"/>"
   ]
  },
  {
   "cell_type": "markdown",
   "metadata": {},
   "source": [
    "## Grading"
   ]
  },
  {
   "cell_type": "markdown",
   "metadata": {},
   "source": [
    "| Problem | Weight |\n",
    "| :-: | -: |\n",
    "| 1 | 0.25 |\n",
    "| 2a | 0.5 |\n",
    "| 2b | 0.5 | \n",
    "| 2c | 0.5 | \n",
    "| 2d | 0.5 |\n",
    "| 3 | 0.25 |\n",
    "| 4a | 0.5 |\n",
    "| 4b | 0.5 |\n",
    "| 4c | 0.5 |\n",
    "| 5 | 1 |\n",
    "| 6 | 1 |\n",
    "| 7 | 1.5 |\n",
    "| 8 | 1 |\n",
    "| 9 | 0.5 |\n",
    "| 10 | 1 |\n",
    "| __Total__ | __100 points__ |"
   ]
  }
 ],
 "metadata": {
  "kernelspec": {
   "display_name": "Python 3",
   "language": "python",
   "name": "python3"
  },
  "language_info": {
   "codemirror_mode": {
    "name": "ipython",
    "version": 3
   },
   "file_extension": ".py",
   "mimetype": "text/x-python",
   "name": "python",
   "nbconvert_exporter": "python",
   "pygments_lexer": "ipython3",
   "version": "3.7.6"
  }
 },
 "nbformat": 4,
 "nbformat_minor": 2
}
